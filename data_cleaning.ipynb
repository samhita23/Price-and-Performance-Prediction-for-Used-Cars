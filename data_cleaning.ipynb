{
 "cells": [
  {
   "cell_type": "code",
   "execution_count": 3,
   "metadata": {
    "id": "bGrYRmfGGEjV"
   },
   "outputs": [],
   "source": [
    "import pandas as pd\n",
    "import numpy as np"
   ]
  },
  {
   "cell_type": "markdown",
   "metadata": {},
   "source": [
    "### Reading previous files"
   ]
  },
  {
   "cell_type": "code",
   "execution_count": 5,
   "metadata": {
    "colab": {
     "base_uri": "https://localhost:8080/",
     "height": 670
    },
    "id": "bHLdmbaXIGkM",
    "outputId": "3c308c6e-670e-4464-956c-38cda280e599"
   },
   "outputs": [
    {
     "data": {
      "text/html": [
       "<div>\n",
       "<style scoped>\n",
       "    .dataframe tbody tr th:only-of-type {\n",
       "        vertical-align: middle;\n",
       "    }\n",
       "\n",
       "    .dataframe tbody tr th {\n",
       "        vertical-align: top;\n",
       "    }\n",
       "\n",
       "    .dataframe thead th {\n",
       "        text-align: right;\n",
       "    }\n",
       "</style>\n",
       "<table border=\"1\" class=\"dataframe\">\n",
       "  <thead>\n",
       "    <tr style=\"text-align: right;\">\n",
       "      <th></th>\n",
       "      <th>Name</th>\n",
       "      <th>Price</th>\n",
       "      <th>Rating</th>\n",
       "      <th>city</th>\n",
       "      <th>Kilometers</th>\n",
       "      <th>Year_of_Purchase</th>\n",
       "      <th>Owner</th>\n",
       "      <th>Fuel_Type</th>\n",
       "      <th>Transmission</th>\n",
       "      <th>RTO</th>\n",
       "      <th>Insurance</th>\n",
       "      <th>Insurance_Type</th>\n",
       "    </tr>\n",
       "  </thead>\n",
       "  <tbody>\n",
       "    <tr>\n",
       "      <th>0</th>\n",
       "      <td>2010 Maruti Alto LXI</td>\n",
       "      <td>₹ 174,699</td>\n",
       "      <td>4out of 5</td>\n",
       "      <td>3686</td>\n",
       "      <td>Kilometers34,854 km</td>\n",
       "      <td>Year of PurchaseMay 2010</td>\n",
       "      <td>OwnerFirst Owner</td>\n",
       "      <td>FuelPetrol</td>\n",
       "      <td>TransmissionMANUAL</td>\n",
       "      <td>RTOAP09</td>\n",
       "      <td>NaN</td>\n",
       "      <td>Insurance TypeInsurance Expired</td>\n",
       "    </tr>\n",
       "    <tr>\n",
       "      <th>1</th>\n",
       "      <td>2013 Maruti Wagon R 1.0 VXI</td>\n",
       "      <td>₹ 333,999</td>\n",
       "      <td>4.2out of 5</td>\n",
       "      <td>3686</td>\n",
       "      <td>Kilometers39,541 km</td>\n",
       "      <td>Year of PurchaseJuly 2013</td>\n",
       "      <td>OwnerSecond Owner</td>\n",
       "      <td>FuelPetrol</td>\n",
       "      <td>TransmissionMANUAL</td>\n",
       "      <td>RTOAP28</td>\n",
       "      <td>Insurance6/8/2021</td>\n",
       "      <td>Insurance TypeComp</td>\n",
       "    </tr>\n",
       "    <tr>\n",
       "      <th>2</th>\n",
       "      <td>2014 Maruti Wagon R 1.0 VXI</td>\n",
       "      <td>₹ 353,199</td>\n",
       "      <td>4.3out of 5</td>\n",
       "      <td>3686</td>\n",
       "      <td>Kilometers23,233 km</td>\n",
       "      <td>Year of PurchaseMarch 2014</td>\n",
       "      <td>OwnerSecond Owner</td>\n",
       "      <td>FuelPetrol</td>\n",
       "      <td>TransmissionMANUAL</td>\n",
       "      <td>RTOAP28</td>\n",
       "      <td>Insurance28/4/2021</td>\n",
       "      <td>Insurance TypeComp</td>\n",
       "    </tr>\n",
       "    <tr>\n",
       "      <th>3</th>\n",
       "      <td>2013 Hyundai Eon D LITE PLUS</td>\n",
       "      <td>₹ 237,899</td>\n",
       "      <td>4.4out of 5</td>\n",
       "      <td>3686</td>\n",
       "      <td>Kilometers27,748 km</td>\n",
       "      <td>Year of PurchaseNovember 2013</td>\n",
       "      <td>OwnerFirst Owner</td>\n",
       "      <td>FuelPetrol</td>\n",
       "      <td>TransmissionMANUAL</td>\n",
       "      <td>RTOAP13</td>\n",
       "      <td>Insurance1/1/2022</td>\n",
       "      <td>Insurance TypeComp</td>\n",
       "    </tr>\n",
       "    <tr>\n",
       "      <th>4</th>\n",
       "      <td>2017 Hyundai Eon ERA PLUS</td>\n",
       "      <td>₹ 300,699</td>\n",
       "      <td>4.4out of 5</td>\n",
       "      <td>3686</td>\n",
       "      <td>Kilometers12,238 km</td>\n",
       "      <td>Year of PurchaseAugust 2017</td>\n",
       "      <td>OwnerSecond Owner</td>\n",
       "      <td>FuelPetrol</td>\n",
       "      <td>TransmissionMANUAL</td>\n",
       "      <td>RTOTS10</td>\n",
       "      <td>NaN</td>\n",
       "      <td>Insurance TypeExpired</td>\n",
       "    </tr>\n",
       "    <tr>\n",
       "      <th>...</th>\n",
       "      <td>...</td>\n",
       "      <td>...</td>\n",
       "      <td>...</td>\n",
       "      <td>...</td>\n",
       "      <td>...</td>\n",
       "      <td>...</td>\n",
       "      <td>...</td>\n",
       "      <td>...</td>\n",
       "      <td>...</td>\n",
       "      <td>...</td>\n",
       "      <td>...</td>\n",
       "      <td>...</td>\n",
       "    </tr>\n",
       "    <tr>\n",
       "      <th>32153</th>\n",
       "      <td>2008 Ford Fiesta 1.6 ZXI</td>\n",
       "      <td>₹ 150,000</td>\n",
       "      <td>3.4out of 5</td>\n",
       "      <td>769</td>\n",
       "      <td>Kilometers95,792 km</td>\n",
       "      <td>Year of PurchaseFebruary 2008</td>\n",
       "      <td>OwnerThird Owner</td>\n",
       "      <td>FuelPetrol</td>\n",
       "      <td>TransmissionMANUAL</td>\n",
       "      <td>RTOCH04</td>\n",
       "      <td>NaN</td>\n",
       "      <td>Insurance TypeInsurance Expired</td>\n",
       "    </tr>\n",
       "    <tr>\n",
       "      <th>32154</th>\n",
       "      <td>2015 Chevrolet Beat LS DIESEL</td>\n",
       "      <td>₹ 250,000</td>\n",
       "      <td>3.5out of 5</td>\n",
       "      <td>769</td>\n",
       "      <td>Kilometers54,505 km</td>\n",
       "      <td>Year of PurchaseNovember 2015</td>\n",
       "      <td>OwnerSecond Owner</td>\n",
       "      <td>FuelDiesel</td>\n",
       "      <td>TransmissionMANUAL</td>\n",
       "      <td>RTOPB13</td>\n",
       "      <td>NaN</td>\n",
       "      <td>Insurance TypeInsurance Expired</td>\n",
       "    </tr>\n",
       "    <tr>\n",
       "      <th>32155</th>\n",
       "      <td>2008 Ford Endeavour XLT TDCI 4X2</td>\n",
       "      <td>₹ 500,000</td>\n",
       "      <td>3.6out of 5</td>\n",
       "      <td>769</td>\n",
       "      <td>Kilometers161,322 km</td>\n",
       "      <td>Year of PurchaseJanuary 2008</td>\n",
       "      <td>OwnerSecond Owner</td>\n",
       "      <td>FuelDiesel</td>\n",
       "      <td>TransmissionMANUAL</td>\n",
       "      <td>RTOHR03</td>\n",
       "      <td>NaN</td>\n",
       "      <td>Insurance TypeInsurance Expired</td>\n",
       "    </tr>\n",
       "    <tr>\n",
       "      <th>32156</th>\n",
       "      <td>2016 Maruti Swift Dzire VDI ABS</td>\n",
       "      <td>₹ 600,000</td>\n",
       "      <td>4.7out of 5</td>\n",
       "      <td>769</td>\n",
       "      <td>Kilometers52,006 km</td>\n",
       "      <td>Year of PurchaseOctober 2016</td>\n",
       "      <td>OwnerFirst Owner</td>\n",
       "      <td>FuelDiesel</td>\n",
       "      <td>NaN</td>\n",
       "      <td>RTOPB65</td>\n",
       "      <td>Insurance27/10/2019</td>\n",
       "      <td>Insurance TypeZero Depreciation</td>\n",
       "    </tr>\n",
       "    <tr>\n",
       "      <th>32157</th>\n",
       "      <td>2007 Mercedes Benz C Class 220 CDI AT</td>\n",
       "      <td>₹ 484,000</td>\n",
       "      <td>3.8out of 5</td>\n",
       "      <td>769</td>\n",
       "      <td>Kilometers88,818 km</td>\n",
       "      <td>Year of PurchaseMay 2007</td>\n",
       "      <td>OwnerSecond Owner</td>\n",
       "      <td>FuelDiesel</td>\n",
       "      <td>TransmissionAUTOMATIC</td>\n",
       "      <td>RTOPB65</td>\n",
       "      <td>Insurance28/11/2019</td>\n",
       "      <td>Insurance TypeComprehensive</td>\n",
       "    </tr>\n",
       "  </tbody>\n",
       "</table>\n",
       "<p>32158 rows × 12 columns</p>\n",
       "</div>"
      ],
      "text/plain": [
       "                                        Name      Price       Rating  city  \\\n",
       "0                       2010 Maruti Alto LXI  ₹ 174,699    4out of 5  3686   \n",
       "1                2013 Maruti Wagon R 1.0 VXI  ₹ 333,999  4.2out of 5  3686   \n",
       "2                2014 Maruti Wagon R 1.0 VXI  ₹ 353,199  4.3out of 5  3686   \n",
       "3               2013 Hyundai Eon D LITE PLUS  ₹ 237,899  4.4out of 5  3686   \n",
       "4                  2017 Hyundai Eon ERA PLUS  ₹ 300,699  4.4out of 5  3686   \n",
       "...                                      ...        ...          ...   ...   \n",
       "32153              2008 Ford Fiesta 1.6 ZXI   ₹ 150,000  3.4out of 5   769   \n",
       "32154          2015 Chevrolet Beat LS DIESEL  ₹ 250,000  3.5out of 5   769   \n",
       "32155       2008 Ford Endeavour XLT TDCI 4X2  ₹ 500,000  3.6out of 5   769   \n",
       "32156        2016 Maruti Swift Dzire VDI ABS  ₹ 600,000  4.7out of 5   769   \n",
       "32157  2007 Mercedes Benz C Class 220 CDI AT  ₹ 484,000  3.8out of 5   769   \n",
       "\n",
       "                 Kilometers               Year_of_Purchase              Owner  \\\n",
       "0       Kilometers34,854 km       Year of PurchaseMay 2010   OwnerFirst Owner   \n",
       "1       Kilometers39,541 km      Year of PurchaseJuly 2013  OwnerSecond Owner   \n",
       "2       Kilometers23,233 km     Year of PurchaseMarch 2014  OwnerSecond Owner   \n",
       "3       Kilometers27,748 km  Year of PurchaseNovember 2013   OwnerFirst Owner   \n",
       "4       Kilometers12,238 km    Year of PurchaseAugust 2017  OwnerSecond Owner   \n",
       "...                     ...                            ...                ...   \n",
       "32153   Kilometers95,792 km  Year of PurchaseFebruary 2008   OwnerThird Owner   \n",
       "32154   Kilometers54,505 km  Year of PurchaseNovember 2015  OwnerSecond Owner   \n",
       "32155  Kilometers161,322 km   Year of PurchaseJanuary 2008  OwnerSecond Owner   \n",
       "32156   Kilometers52,006 km   Year of PurchaseOctober 2016   OwnerFirst Owner   \n",
       "32157   Kilometers88,818 km       Year of PurchaseMay 2007  OwnerSecond Owner   \n",
       "\n",
       "        Fuel_Type           Transmission      RTO            Insurance  \\\n",
       "0      FuelPetrol     TransmissionMANUAL  RTOAP09                  NaN   \n",
       "1      FuelPetrol     TransmissionMANUAL  RTOAP28    Insurance6/8/2021   \n",
       "2      FuelPetrol     TransmissionMANUAL  RTOAP28   Insurance28/4/2021   \n",
       "3      FuelPetrol     TransmissionMANUAL  RTOAP13    Insurance1/1/2022   \n",
       "4      FuelPetrol     TransmissionMANUAL  RTOTS10                  NaN   \n",
       "...           ...                    ...      ...                  ...   \n",
       "32153  FuelPetrol     TransmissionMANUAL  RTOCH04                  NaN   \n",
       "32154  FuelDiesel     TransmissionMANUAL  RTOPB13                  NaN   \n",
       "32155  FuelDiesel     TransmissionMANUAL  RTOHR03                  NaN   \n",
       "32156  FuelDiesel                    NaN  RTOPB65  Insurance27/10/2019   \n",
       "32157  FuelDiesel  TransmissionAUTOMATIC  RTOPB65  Insurance28/11/2019   \n",
       "\n",
       "                        Insurance_Type  \n",
       "0      Insurance TypeInsurance Expired  \n",
       "1                   Insurance TypeComp  \n",
       "2                   Insurance TypeComp  \n",
       "3                   Insurance TypeComp  \n",
       "4                Insurance TypeExpired  \n",
       "...                                ...  \n",
       "32153  Insurance TypeInsurance Expired  \n",
       "32154  Insurance TypeInsurance Expired  \n",
       "32155  Insurance TypeInsurance Expired  \n",
       "32156  Insurance TypeZero Depreciation  \n",
       "32157      Insurance TypeComprehensive  \n",
       "\n",
       "[32158 rows x 12 columns]"
      ]
     },
     "execution_count": 5,
     "metadata": {},
     "output_type": "execute_result"
    }
   ],
   "source": [
    "data=pd.read_excel('cars_datafinal.xlsx')\n",
    "data"
   ]
  },
  {
   "cell_type": "markdown",
   "metadata": {},
   "source": [
    "## Data Cleaning and data preparation"
   ]
  },
  {
   "cell_type": "markdown",
   "metadata": {},
   "source": [
    "### Cleaning Column Name"
   ]
  },
  {
   "cell_type": "code",
   "execution_count": 6,
   "metadata": {
    "id": "7aWruRikJ7sr"
   },
   "outputs": [],
   "source": [
    "data['Name']=data['Name'].str.replace(r'\\d','') # removing number from Name column"
   ]
  },
  {
   "cell_type": "code",
   "execution_count": 7,
   "metadata": {},
   "outputs": [
    {
     "data": {
      "text/html": [
       "<div>\n",
       "<style scoped>\n",
       "    .dataframe tbody tr th:only-of-type {\n",
       "        vertical-align: middle;\n",
       "    }\n",
       "\n",
       "    .dataframe tbody tr th {\n",
       "        vertical-align: top;\n",
       "    }\n",
       "\n",
       "    .dataframe thead th {\n",
       "        text-align: right;\n",
       "    }\n",
       "</style>\n",
       "<table border=\"1\" class=\"dataframe\">\n",
       "  <thead>\n",
       "    <tr style=\"text-align: right;\">\n",
       "      <th></th>\n",
       "      <th>Name</th>\n",
       "      <th>Price</th>\n",
       "      <th>Rating</th>\n",
       "      <th>city</th>\n",
       "      <th>Kilometers</th>\n",
       "      <th>Year_of_Purchase</th>\n",
       "      <th>Owner</th>\n",
       "      <th>Fuel_Type</th>\n",
       "      <th>Transmission</th>\n",
       "      <th>RTO</th>\n",
       "      <th>Insurance</th>\n",
       "      <th>Insurance_Type</th>\n",
       "    </tr>\n",
       "  </thead>\n",
       "  <tbody>\n",
       "    <tr>\n",
       "      <th>0</th>\n",
       "      <td>Maruti Alto LXI</td>\n",
       "      <td>₹ 174,699</td>\n",
       "      <td>4out of 5</td>\n",
       "      <td>3686</td>\n",
       "      <td>Kilometers34,854 km</td>\n",
       "      <td>Year of PurchaseMay 2010</td>\n",
       "      <td>OwnerFirst Owner</td>\n",
       "      <td>FuelPetrol</td>\n",
       "      <td>TransmissionMANUAL</td>\n",
       "      <td>RTOAP09</td>\n",
       "      <td>NaN</td>\n",
       "      <td>Insurance TypeInsurance Expired</td>\n",
       "    </tr>\n",
       "    <tr>\n",
       "      <th>1</th>\n",
       "      <td>Maruti Wagon R . VXI</td>\n",
       "      <td>₹ 333,999</td>\n",
       "      <td>4.2out of 5</td>\n",
       "      <td>3686</td>\n",
       "      <td>Kilometers39,541 km</td>\n",
       "      <td>Year of PurchaseJuly 2013</td>\n",
       "      <td>OwnerSecond Owner</td>\n",
       "      <td>FuelPetrol</td>\n",
       "      <td>TransmissionMANUAL</td>\n",
       "      <td>RTOAP28</td>\n",
       "      <td>Insurance6/8/2021</td>\n",
       "      <td>Insurance TypeComp</td>\n",
       "    </tr>\n",
       "    <tr>\n",
       "      <th>2</th>\n",
       "      <td>Maruti Wagon R . VXI</td>\n",
       "      <td>₹ 353,199</td>\n",
       "      <td>4.3out of 5</td>\n",
       "      <td>3686</td>\n",
       "      <td>Kilometers23,233 km</td>\n",
       "      <td>Year of PurchaseMarch 2014</td>\n",
       "      <td>OwnerSecond Owner</td>\n",
       "      <td>FuelPetrol</td>\n",
       "      <td>TransmissionMANUAL</td>\n",
       "      <td>RTOAP28</td>\n",
       "      <td>Insurance28/4/2021</td>\n",
       "      <td>Insurance TypeComp</td>\n",
       "    </tr>\n",
       "    <tr>\n",
       "      <th>3</th>\n",
       "      <td>Hyundai Eon D LITE PLUS</td>\n",
       "      <td>₹ 237,899</td>\n",
       "      <td>4.4out of 5</td>\n",
       "      <td>3686</td>\n",
       "      <td>Kilometers27,748 km</td>\n",
       "      <td>Year of PurchaseNovember 2013</td>\n",
       "      <td>OwnerFirst Owner</td>\n",
       "      <td>FuelPetrol</td>\n",
       "      <td>TransmissionMANUAL</td>\n",
       "      <td>RTOAP13</td>\n",
       "      <td>Insurance1/1/2022</td>\n",
       "      <td>Insurance TypeComp</td>\n",
       "    </tr>\n",
       "    <tr>\n",
       "      <th>4</th>\n",
       "      <td>Hyundai Eon ERA PLUS</td>\n",
       "      <td>₹ 300,699</td>\n",
       "      <td>4.4out of 5</td>\n",
       "      <td>3686</td>\n",
       "      <td>Kilometers12,238 km</td>\n",
       "      <td>Year of PurchaseAugust 2017</td>\n",
       "      <td>OwnerSecond Owner</td>\n",
       "      <td>FuelPetrol</td>\n",
       "      <td>TransmissionMANUAL</td>\n",
       "      <td>RTOTS10</td>\n",
       "      <td>NaN</td>\n",
       "      <td>Insurance TypeExpired</td>\n",
       "    </tr>\n",
       "  </tbody>\n",
       "</table>\n",
       "</div>"
      ],
      "text/plain": [
       "                       Name      Price       Rating  city  \\\n",
       "0           Maruti Alto LXI  ₹ 174,699    4out of 5  3686   \n",
       "1      Maruti Wagon R . VXI  ₹ 333,999  4.2out of 5  3686   \n",
       "2      Maruti Wagon R . VXI  ₹ 353,199  4.3out of 5  3686   \n",
       "3   Hyundai Eon D LITE PLUS  ₹ 237,899  4.4out of 5  3686   \n",
       "4      Hyundai Eon ERA PLUS  ₹ 300,699  4.4out of 5  3686   \n",
       "\n",
       "            Kilometers               Year_of_Purchase              Owner  \\\n",
       "0  Kilometers34,854 km       Year of PurchaseMay 2010   OwnerFirst Owner   \n",
       "1  Kilometers39,541 km      Year of PurchaseJuly 2013  OwnerSecond Owner   \n",
       "2  Kilometers23,233 km     Year of PurchaseMarch 2014  OwnerSecond Owner   \n",
       "3  Kilometers27,748 km  Year of PurchaseNovember 2013   OwnerFirst Owner   \n",
       "4  Kilometers12,238 km    Year of PurchaseAugust 2017  OwnerSecond Owner   \n",
       "\n",
       "    Fuel_Type        Transmission      RTO           Insurance  \\\n",
       "0  FuelPetrol  TransmissionMANUAL  RTOAP09                 NaN   \n",
       "1  FuelPetrol  TransmissionMANUAL  RTOAP28   Insurance6/8/2021   \n",
       "2  FuelPetrol  TransmissionMANUAL  RTOAP28  Insurance28/4/2021   \n",
       "3  FuelPetrol  TransmissionMANUAL  RTOAP13   Insurance1/1/2022   \n",
       "4  FuelPetrol  TransmissionMANUAL  RTOTS10                 NaN   \n",
       "\n",
       "                    Insurance_Type  \n",
       "0  Insurance TypeInsurance Expired  \n",
       "1               Insurance TypeComp  \n",
       "2               Insurance TypeComp  \n",
       "3               Insurance TypeComp  \n",
       "4            Insurance TypeExpired  "
      ]
     },
     "execution_count": 7,
     "metadata": {},
     "output_type": "execute_result"
    }
   ],
   "source": [
    "data.head()"
   ]
  },
  {
   "cell_type": "markdown",
   "metadata": {},
   "source": [
    "### Cleaning Column Price"
   ]
  },
  {
   "cell_type": "code",
   "execution_count": 8,
   "metadata": {
    "id": "Gwgi7nBUMzj9"
   },
   "outputs": [],
   "source": [
    "data['Price']=data['Price'].str.replace(r'₹','').str.replace(r',','') # removing '₹' and ',' from price column\n",
    "data['Price']=pd.to_numeric(data['Price'])# converting price from str to numeric "
   ]
  },
  {
   "cell_type": "markdown",
   "metadata": {},
   "source": [
    "### Cleaning Column Rating"
   ]
  },
  {
   "cell_type": "code",
   "execution_count": 9,
   "metadata": {
    "id": "LntzNRmURjf2"
   },
   "outputs": [],
   "source": [
    "data['Rating']=data['Rating'].str.replace(r'out of 5','') # removing 'out of 5 ' from rating\n",
    "data['Rating']=data['Rating'].str.replace(r'^4$','4.').str.replace(r'^3$','3.') # there some values containing '4$' and '3$' ,replacing them"
   ]
  },
  {
   "cell_type": "code",
   "execution_count": 31,
   "metadata": {},
   "outputs": [
    {
     "data": {
      "text/plain": [
       "4.2    3050\n",
       "4      2846\n",
       "4.1    2833\n",
       "4.3    2775\n",
       "3.9    2431\n",
       "3.8    2131\n",
       "4.4    1938\n",
       "3.7    1857\n",
       "4.5    1640\n",
       "4.6    1556\n",
       "3.6    1356\n",
       "4.7    1275\n",
       "4.8    1206\n",
       "4.9    1176\n",
       "3.5    1037\n",
       "3.4     705\n",
       "1       639\n",
       "3.3     457\n",
       "3.2     340\n",
       "5       262\n",
       "3.1     215\n",
       "3       165\n",
       "2.9      95\n",
       "2.8      72\n",
       "2.7      35\n",
       "2.6      26\n",
       "2.5      10\n",
       "2.4       9\n",
       "2         6\n",
       "2.2       3\n",
       "1.1       2\n",
       "0.9       2\n",
       "1.9       2\n",
       "2.3       2\n",
       "0.5       1\n",
       "1.7       1\n",
       "1.5       1\n",
       "2.1       1\n",
       "Name: Rating, dtype: int64"
      ]
     },
     "execution_count": 31,
     "metadata": {},
     "output_type": "execute_result"
    }
   ],
   "source": [
    "data['Rating']=data['Rating'].replace(r'',5.,regex=True)\n",
    "data['Rating'].value_counts()"
   ]
  },
  {
   "cell_type": "markdown",
   "metadata": {},
   "source": [
    "### Column City"
   ]
  },
  {
   "cell_type": "code",
   "execution_count": 11,
   "metadata": {},
   "outputs": [],
   "source": [
    "city_dict={3686:'hyderabad',5732:'chennai',4709:'bengalore',777:'kolkata',2423:'pune',2378:'mumbai',290:'lucknow',1692:'ahmedabad',2130:'jaipur',769:'chandigarh'}"
   ]
  },
  {
   "cell_type": "code",
   "execution_count": 12,
   "metadata": {},
   "outputs": [],
   "source": [
    "data['city']=data['city'].replace( city_dict)"
   ]
  },
  {
   "cell_type": "markdown",
   "metadata": {},
   "source": [
    "### Column Kilometers"
   ]
  },
  {
   "cell_type": "code",
   "execution_count": 13,
   "metadata": {
    "colab": {
     "base_uri": "https://localhost:8080/"
    },
    "id": "QpR3WK7jVAHh",
    "outputId": "546b7c90-7c2e-498a-eb5a-868fa550b7b5"
   },
   "outputs": [
    {
     "data": {
      "text/plain": [
       "0         34854\n",
       "1         39541\n",
       "2         23233\n",
       "3         27748\n",
       "4         12238\n",
       "          ...  \n",
       "32153     95792\n",
       "32154     54505\n",
       "32155    161322\n",
       "32156     52006\n",
       "32157     88818\n",
       "Name: Kilometers, Length: 32158, dtype: int64"
      ]
     },
     "execution_count": 13,
     "metadata": {},
     "output_type": "execute_result"
    }
   ],
   "source": [
    "data['Kilometers']=data['Kilometers'].str.lstrip('Kilometers') # splitting kilometers column and removing kilometers from it\n",
    "data['Kilometers']=data['Kilometers'].str.replace(r',','') # removing ','\n",
    "data['Kilometers']=data['Kilometers'].str.rstrip(' km')# removing 'km'\n",
    "data['Kilometers']=pd.to_numeric(data['Kilometers']) # converting them to numeric\n",
    "data['Kilometers']"
   ]
  },
  {
   "cell_type": "markdown",
   "metadata": {},
   "source": [
    "### Column  Year_of_Purchase"
   ]
  },
  {
   "cell_type": "code",
   "execution_count": 14,
   "metadata": {
    "colab": {
     "base_uri": "https://localhost:8080/"
    },
    "id": "SZ4qe3z2YFbz",
    "outputId": "59834e1a-1993-48c4-a7fd-76322560284b"
   },
   "outputs": [
    {
     "data": {
      "text/plain": [
       "0             May 2010\n",
       "1            July 2013\n",
       "2           March 2014\n",
       "3        November 2013\n",
       "4          August 2017\n",
       "             ...      \n",
       "32153    February 2008\n",
       "32154    November 2015\n",
       "32155     January 2008\n",
       "32156     October 2016\n",
       "32157         May 2007\n",
       "Name: Year_of_Purchase, Length: 32158, dtype: object"
      ]
     },
     "execution_count": 14,
     "metadata": {},
     "output_type": "execute_result"
    }
   ],
   "source": [
    "data['Year_of_Purchase']=data['Year_of_Purchase'].str.lstrip('Year of Purchase')# splitting  years column and removing 'year of purchase'\n",
    "data['Year_of_Purchase']"
   ]
  },
  {
   "cell_type": "markdown",
   "metadata": {},
   "source": [
    "### Column Owner"
   ]
  },
  {
   "cell_type": "code",
   "execution_count": 15,
   "metadata": {
    "colab": {
     "base_uri": "https://localhost:8080/"
    },
    "id": "qSegEe_gY4NP",
    "outputId": "5cffcfc6-34a9-4462-db94-a52c5cd1fd8e"
   },
   "outputs": [
    {
     "data": {
      "text/plain": [
       "0         First \n",
       "1        Second \n",
       "2        Second \n",
       "3         First \n",
       "4        Second \n",
       "          ...   \n",
       "32153     Third \n",
       "32154    Second \n",
       "32155    Second \n",
       "32156     First \n",
       "32157    Second \n",
       "Name: Owner, Length: 32158, dtype: object"
      ]
     },
     "execution_count": 15,
     "metadata": {},
     "output_type": "execute_result"
    }
   ],
   "source": [
    "data['Owner']=data['Owner'].str.strip('Owner')# splitting owner and removing owner from it\n",
    "data['Owner']"
   ]
  },
  {
   "cell_type": "markdown",
   "metadata": {},
   "source": [
    "### Column Fule_type"
   ]
  },
  {
   "cell_type": "code",
   "execution_count": 16,
   "metadata": {
    "colab": {
     "base_uri": "https://localhost:8080/"
    },
    "id": "l5TSeGxqZXGo",
    "outputId": "a69a968b-ae38-469c-dbde-5e94c1cf0733"
   },
   "outputs": [
    {
     "data": {
      "text/plain": [
       "0        Petrol\n",
       "1        Petrol\n",
       "2        Petrol\n",
       "3        Petrol\n",
       "4        Petrol\n",
       "          ...  \n",
       "32153    Petrol\n",
       "32154    Diesel\n",
       "32155    Diesel\n",
       "32156    Diesel\n",
       "32157    Diesel\n",
       "Name: Fuel_Type, Length: 32158, dtype: object"
      ]
     },
     "execution_count": 16,
     "metadata": {},
     "output_type": "execute_result"
    }
   ],
   "source": [
    "data['Fuel_Type']=data['Fuel_Type'].str.replace(r'Fuel','')# removing 'fuel' from it\n",
    "data['Fuel_Type']"
   ]
  },
  {
   "cell_type": "markdown",
   "metadata": {},
   "source": [
    "### Column Transmission"
   ]
  },
  {
   "cell_type": "code",
   "execution_count": 17,
   "metadata": {
    "colab": {
     "base_uri": "https://localhost:8080/"
    },
    "id": "xMRjgFehaBV-",
    "outputId": "cdb99b6b-326d-4283-9692-39c8dcf445ce"
   },
   "outputs": [
    {
     "data": {
      "text/plain": [
       "0           MANUAL\n",
       "1           MANUAL\n",
       "2           MANUAL\n",
       "3           MANUAL\n",
       "4           MANUAL\n",
       "           ...    \n",
       "32153       MANUAL\n",
       "32154       MANUAL\n",
       "32155       MANUAL\n",
       "32156          NaN\n",
       "32157    AUTOMATIC\n",
       "Name: Transmission, Length: 32158, dtype: object"
      ]
     },
     "execution_count": 17,
     "metadata": {},
     "output_type": "execute_result"
    }
   ],
   "source": [
    "data['Transmission']=data['Transmission'].str.replace(r'Transmission','') # 'transmission' from it\n",
    "data['Transmission']"
   ]
  },
  {
   "cell_type": "markdown",
   "metadata": {},
   "source": [
    "### Column  Insurance"
   ]
  },
  {
   "cell_type": "code",
   "execution_count": 18,
   "metadata": {
    "colab": {
     "base_uri": "https://localhost:8080/"
    },
    "id": "EeqdssG2bQ2D",
    "outputId": "3a6a22ac-bee1-4c5e-d1cc-38696996816c"
   },
   "outputs": [
    {
     "data": {
      "text/plain": [
       "0               NaN\n",
       "1          6/8/2021\n",
       "2         28/4/2021\n",
       "3          1/1/2022\n",
       "4               NaN\n",
       "            ...    \n",
       "32153           NaN\n",
       "32154           NaN\n",
       "32155           NaN\n",
       "32156    27/10/2019\n",
       "32157    28/11/2019\n",
       "Name: Insurance, Length: 32158, dtype: object"
      ]
     },
     "execution_count": 18,
     "metadata": {},
     "output_type": "execute_result"
    }
   ],
   "source": [
    "data['Insurance']=data['Insurance'].str.lstrip('Insurance') # splitting insurance and removing 'Insurance' from it\n",
    "data['Insurance'] "
   ]
  },
  {
   "cell_type": "markdown",
   "metadata": {},
   "source": [
    "### Column Insurance_type"
   ]
  },
  {
   "cell_type": "code",
   "execution_count": 19,
   "metadata": {
    "colab": {
     "base_uri": "https://localhost:8080/"
    },
    "id": "v9UDtppKdzRY",
    "outputId": "7353e9d7-b8af-4159-a656-fc56c941cd47"
   },
   "outputs": [
    {
     "data": {
      "text/plain": [
       "0        Insurance Expired\n",
       "1                     Comp\n",
       "2                     Comp\n",
       "3                     Comp\n",
       "4                  Expired\n",
       "               ...        \n",
       "32153    Insurance Expired\n",
       "32154    Insurance Expired\n",
       "32155    Insurance Expired\n",
       "32156    Zero Depreciation\n",
       "32157        Comprehensive\n",
       "Name: Insurance_Type, Length: 32158, dtype: object"
      ]
     },
     "execution_count": 19,
     "metadata": {},
     "output_type": "execute_result"
    }
   ],
   "source": [
    "data['Insurance_Type']=data['Insurance_Type'].str.replace('Insurance Type','')  # removing 'Insurance type' from it\n",
    "data['Insurance_Type']"
   ]
  },
  {
   "cell_type": "code",
   "execution_count": 20,
   "metadata": {
    "id": "gWwRkS-Ol6y6"
   },
   "outputs": [],
   "source": [
    "# converting insurance_type to standard notation categories\n",
    "data['Insurance_Type']=data['Insurance_Type'].str.replace(r'_Dep','Depreciation') \n",
    "data['Insurance_Type']=data['Insurance_Type'].str.replace(r'Zero ','Zero')\n",
    "data['Insurance_Type']=data['Insurance_Type'].str.replace(r'Comp$','Comprehensive')\n",
    "data['Insurance_Type']=data['Insurance_Type'].str.replace(r'3rd P','Third_p')\n",
    "data['Insurance_Type']=data['Insurance_Type'].str.lstrip('Insurance ')"
   ]
  },
  {
   "cell_type": "code",
   "execution_count": 21,
   "metadata": {
    "colab": {
     "base_uri": "https://localhost:8080/"
    },
    "id": "Uns4AZnRgZNl",
    "outputId": "1cd7fe56-3d78-49f3-c4c0-a151e81a35bc"
   },
   "outputs": [
    {
     "data": {
      "text/plain": [
       "Comprehensive       11801\n",
       "Expired              9402\n",
       "Third_party          6290\n",
       "ZeroDepreciation     4634\n",
       "Not Available          24\n",
       "Normal                  5\n",
       "ll                      1\n",
       "NA                      1\n",
       "Name: Insurance_Type, dtype: int64"
      ]
     },
     "execution_count": 21,
     "metadata": {},
     "output_type": "execute_result"
    }
   ],
   "source": [
    "data['Insurance_Type'].value_counts()"
   ]
  },
  {
   "cell_type": "code",
   "execution_count": 22,
   "metadata": {
    "colab": {
     "base_uri": "https://localhost:8080/"
    },
    "id": "5zLLyoTDi-oC",
    "outputId": "08cb3ccf-0f03-46aa-e556-06446203e7ad"
   },
   "outputs": [
    {
     "data": {
      "text/plain": [
       "Comprehensive       11801\n",
       "Expired              9402\n",
       "Third_party          6290\n",
       "ZeroDepreciation     4634\n",
       "Not Available          24\n",
       "Normal                  5\n",
       "                        2\n",
       "Name: Insurance_Type, dtype: int64"
      ]
     },
     "execution_count": 22,
     "metadata": {},
     "output_type": "execute_result"
    }
   ],
   "source": [
    "data['Insurance_Type']=data['Insurance_Type'].str.replace('ll','').str.replace('NA','') # replacing 'l1' with nan\n",
    "data['Insurance_Type'].value_counts()"
   ]
  },
  {
   "cell_type": "code",
   "execution_count": 26,
   "metadata": {
    "id": "tDaZ9ji2sBO6"
   },
   "outputs": [],
   "source": [
    "data['Insurance_Type']=data['Insurance_Type'].replace(r'^\\s*$',np.NaN,regex=True) # trying to look for any whitespaces from start to end"
   ]
  },
  {
   "cell_type": "code",
   "execution_count": 27,
   "metadata": {
    "colab": {
     "base_uri": "https://localhost:8080/"
    },
    "id": "ViHvnqbLNiSj",
    "outputId": "19c23256-0a72-49e7-b522-1067ea85f43a"
   },
   "outputs": [
    {
     "data": {
      "text/plain": [
       "2"
      ]
     },
     "execution_count": 27,
     "metadata": {},
     "output_type": "execute_result"
    }
   ],
   "source": [
    "data['Insurance_Type'].isnull().sum()"
   ]
  },
  {
   "cell_type": "markdown",
   "metadata": {},
   "source": [
    "### Creating new columns"
   ]
  },
  {
   "cell_type": "code",
   "execution_count": 28,
   "metadata": {
    "id": "Zu5w1uNxE090"
   },
   "outputs": [],
   "source": [
    "data[['Month_of_Purchase','Year_of_Purchase']]=data.Year_of_Purchase.str.split(expand=True) # splitting year of purchase into two columns\n"
   ]
  },
  {
   "cell_type": "code",
   "execution_count": null,
   "metadata": {
    "id": "_7xFF1QuF4s0"
   },
   "outputs": [],
   "source": [
    "#data=data[['Name','Price','Rating','Kilometers','Month_of_Purchase','Year_of_Purchase','Owner','Fuel_Type','Transmission','RTO','Insurance','Insurance_Type']]"
   ]
  },
  {
   "cell_type": "code",
   "execution_count": 30,
   "metadata": {
    "id": "d7yIcJWFKVTd"
   },
   "outputs": [
    {
     "data": {
      "text/html": [
       "<div>\n",
       "<style scoped>\n",
       "    .dataframe tbody tr th:only-of-type {\n",
       "        vertical-align: middle;\n",
       "    }\n",
       "\n",
       "    .dataframe tbody tr th {\n",
       "        vertical-align: top;\n",
       "    }\n",
       "\n",
       "    .dataframe thead th {\n",
       "        text-align: right;\n",
       "    }\n",
       "</style>\n",
       "<table border=\"1\" class=\"dataframe\">\n",
       "  <thead>\n",
       "    <tr style=\"text-align: right;\">\n",
       "      <th></th>\n",
       "      <th>Name</th>\n",
       "      <th>Price</th>\n",
       "      <th>Rating</th>\n",
       "      <th>city</th>\n",
       "      <th>Kilometers</th>\n",
       "      <th>Year_of_Purchase</th>\n",
       "      <th>Owner</th>\n",
       "      <th>Fuel_Type</th>\n",
       "      <th>Transmission</th>\n",
       "      <th>RTO</th>\n",
       "      <th>Insurance</th>\n",
       "      <th>Insurance_Type</th>\n",
       "      <th>Month_of_Purchase</th>\n",
       "    </tr>\n",
       "  </thead>\n",
       "  <tbody>\n",
       "    <tr>\n",
       "      <th>0</th>\n",
       "      <td>Maruti Alto LXI</td>\n",
       "      <td>174699</td>\n",
       "      <td>4</td>\n",
       "      <td>hyderabad</td>\n",
       "      <td>34854</td>\n",
       "      <td>2010</td>\n",
       "      <td>First</td>\n",
       "      <td>Petrol</td>\n",
       "      <td>MANUAL</td>\n",
       "      <td>RTOAP09</td>\n",
       "      <td>NaN</td>\n",
       "      <td>Expired</td>\n",
       "      <td>May</td>\n",
       "    </tr>\n",
       "    <tr>\n",
       "      <th>1</th>\n",
       "      <td>Maruti Wagon R . VXI</td>\n",
       "      <td>333999</td>\n",
       "      <td>4.2</td>\n",
       "      <td>hyderabad</td>\n",
       "      <td>39541</td>\n",
       "      <td>2013</td>\n",
       "      <td>Second</td>\n",
       "      <td>Petrol</td>\n",
       "      <td>MANUAL</td>\n",
       "      <td>RTOAP28</td>\n",
       "      <td>6/8/2021</td>\n",
       "      <td>Comprehensive</td>\n",
       "      <td>July</td>\n",
       "    </tr>\n",
       "    <tr>\n",
       "      <th>2</th>\n",
       "      <td>Maruti Wagon R . VXI</td>\n",
       "      <td>353199</td>\n",
       "      <td>4.3</td>\n",
       "      <td>hyderabad</td>\n",
       "      <td>23233</td>\n",
       "      <td>2014</td>\n",
       "      <td>Second</td>\n",
       "      <td>Petrol</td>\n",
       "      <td>MANUAL</td>\n",
       "      <td>RTOAP28</td>\n",
       "      <td>28/4/2021</td>\n",
       "      <td>Comprehensive</td>\n",
       "      <td>March</td>\n",
       "    </tr>\n",
       "    <tr>\n",
       "      <th>3</th>\n",
       "      <td>Hyundai Eon D LITE PLUS</td>\n",
       "      <td>237899</td>\n",
       "      <td>4.4</td>\n",
       "      <td>hyderabad</td>\n",
       "      <td>27748</td>\n",
       "      <td>2013</td>\n",
       "      <td>First</td>\n",
       "      <td>Petrol</td>\n",
       "      <td>MANUAL</td>\n",
       "      <td>RTOAP13</td>\n",
       "      <td>1/1/2022</td>\n",
       "      <td>Comprehensive</td>\n",
       "      <td>November</td>\n",
       "    </tr>\n",
       "    <tr>\n",
       "      <th>4</th>\n",
       "      <td>Hyundai Eon ERA PLUS</td>\n",
       "      <td>300699</td>\n",
       "      <td>4.4</td>\n",
       "      <td>hyderabad</td>\n",
       "      <td>12238</td>\n",
       "      <td>2017</td>\n",
       "      <td>Second</td>\n",
       "      <td>Petrol</td>\n",
       "      <td>MANUAL</td>\n",
       "      <td>RTOTS10</td>\n",
       "      <td>NaN</td>\n",
       "      <td>Expired</td>\n",
       "      <td>August</td>\n",
       "    </tr>\n",
       "    <tr>\n",
       "      <th>...</th>\n",
       "      <td>...</td>\n",
       "      <td>...</td>\n",
       "      <td>...</td>\n",
       "      <td>...</td>\n",
       "      <td>...</td>\n",
       "      <td>...</td>\n",
       "      <td>...</td>\n",
       "      <td>...</td>\n",
       "      <td>...</td>\n",
       "      <td>...</td>\n",
       "      <td>...</td>\n",
       "      <td>...</td>\n",
       "      <td>...</td>\n",
       "    </tr>\n",
       "    <tr>\n",
       "      <th>32153</th>\n",
       "      <td>Ford Fiesta . ZXI</td>\n",
       "      <td>150000</td>\n",
       "      <td>3.4</td>\n",
       "      <td>chandigarh</td>\n",
       "      <td>95792</td>\n",
       "      <td>2008</td>\n",
       "      <td>Third</td>\n",
       "      <td>Petrol</td>\n",
       "      <td>MANUAL</td>\n",
       "      <td>RTOCH04</td>\n",
       "      <td>NaN</td>\n",
       "      <td>Expired</td>\n",
       "      <td>February</td>\n",
       "    </tr>\n",
       "    <tr>\n",
       "      <th>32154</th>\n",
       "      <td>Chevrolet Beat LS DIESEL</td>\n",
       "      <td>250000</td>\n",
       "      <td>3.5</td>\n",
       "      <td>chandigarh</td>\n",
       "      <td>54505</td>\n",
       "      <td>2015</td>\n",
       "      <td>Second</td>\n",
       "      <td>Diesel</td>\n",
       "      <td>MANUAL</td>\n",
       "      <td>RTOPB13</td>\n",
       "      <td>NaN</td>\n",
       "      <td>Expired</td>\n",
       "      <td>November</td>\n",
       "    </tr>\n",
       "    <tr>\n",
       "      <th>32155</th>\n",
       "      <td>Ford Endeavour XLT TDCI X</td>\n",
       "      <td>500000</td>\n",
       "      <td>3.6</td>\n",
       "      <td>chandigarh</td>\n",
       "      <td>161322</td>\n",
       "      <td>2008</td>\n",
       "      <td>Second</td>\n",
       "      <td>Diesel</td>\n",
       "      <td>MANUAL</td>\n",
       "      <td>RTOHR03</td>\n",
       "      <td>NaN</td>\n",
       "      <td>Expired</td>\n",
       "      <td>January</td>\n",
       "    </tr>\n",
       "    <tr>\n",
       "      <th>32156</th>\n",
       "      <td>Maruti Swift Dzire VDI ABS</td>\n",
       "      <td>600000</td>\n",
       "      <td>4.7</td>\n",
       "      <td>chandigarh</td>\n",
       "      <td>52006</td>\n",
       "      <td>2016</td>\n",
       "      <td>First</td>\n",
       "      <td>Diesel</td>\n",
       "      <td>NaN</td>\n",
       "      <td>RTOPB65</td>\n",
       "      <td>27/10/2019</td>\n",
       "      <td>ZeroDepreciation</td>\n",
       "      <td>October</td>\n",
       "    </tr>\n",
       "    <tr>\n",
       "      <th>32157</th>\n",
       "      <td>Mercedes Benz C Class  CDI AT</td>\n",
       "      <td>484000</td>\n",
       "      <td>3.8</td>\n",
       "      <td>chandigarh</td>\n",
       "      <td>88818</td>\n",
       "      <td>2007</td>\n",
       "      <td>Second</td>\n",
       "      <td>Diesel</td>\n",
       "      <td>AUTOMATIC</td>\n",
       "      <td>RTOPB65</td>\n",
       "      <td>28/11/2019</td>\n",
       "      <td>Comprehensive</td>\n",
       "      <td>May</td>\n",
       "    </tr>\n",
       "  </tbody>\n",
       "</table>\n",
       "<p>32158 rows × 13 columns</p>\n",
       "</div>"
      ],
      "text/plain": [
       "                                 Name   Price Rating        city  Kilometers  \\\n",
       "0                     Maruti Alto LXI  174699      4   hyderabad       34854   \n",
       "1                Maruti Wagon R . VXI  333999    4.2   hyderabad       39541   \n",
       "2                Maruti Wagon R . VXI  353199    4.3   hyderabad       23233   \n",
       "3             Hyundai Eon D LITE PLUS  237899    4.4   hyderabad       27748   \n",
       "4                Hyundai Eon ERA PLUS  300699    4.4   hyderabad       12238   \n",
       "...                               ...     ...    ...         ...         ...   \n",
       "32153              Ford Fiesta . ZXI   150000    3.4  chandigarh       95792   \n",
       "32154        Chevrolet Beat LS DIESEL  250000    3.5  chandigarh       54505   \n",
       "32155       Ford Endeavour XLT TDCI X  500000    3.6  chandigarh      161322   \n",
       "32156      Maruti Swift Dzire VDI ABS  600000    4.7  chandigarh       52006   \n",
       "32157   Mercedes Benz C Class  CDI AT  484000    3.8  chandigarh       88818   \n",
       "\n",
       "      Year_of_Purchase    Owner Fuel_Type Transmission      RTO   Insurance  \\\n",
       "0                 2010   First     Petrol       MANUAL  RTOAP09         NaN   \n",
       "1                 2013  Second     Petrol       MANUAL  RTOAP28    6/8/2021   \n",
       "2                 2014  Second     Petrol       MANUAL  RTOAP28   28/4/2021   \n",
       "3                 2013   First     Petrol       MANUAL  RTOAP13    1/1/2022   \n",
       "4                 2017  Second     Petrol       MANUAL  RTOTS10         NaN   \n",
       "...                ...      ...       ...          ...      ...         ...   \n",
       "32153             2008   Third     Petrol       MANUAL  RTOCH04         NaN   \n",
       "32154             2015  Second     Diesel       MANUAL  RTOPB13         NaN   \n",
       "32155             2008  Second     Diesel       MANUAL  RTOHR03         NaN   \n",
       "32156             2016   First     Diesel          NaN  RTOPB65  27/10/2019   \n",
       "32157             2007  Second     Diesel    AUTOMATIC  RTOPB65  28/11/2019   \n",
       "\n",
       "         Insurance_Type Month_of_Purchase  \n",
       "0               Expired               May  \n",
       "1         Comprehensive              July  \n",
       "2         Comprehensive             March  \n",
       "3         Comprehensive          November  \n",
       "4               Expired            August  \n",
       "...                 ...               ...  \n",
       "32153           Expired          February  \n",
       "32154           Expired          November  \n",
       "32155           Expired           January  \n",
       "32156  ZeroDepreciation           October  \n",
       "32157     Comprehensive               May  \n",
       "\n",
       "[32158 rows x 13 columns]"
      ]
     },
     "execution_count": 30,
     "metadata": {},
     "output_type": "execute_result"
    }
   ],
   "source": [
    "data"
   ]
  },
  {
   "cell_type": "code",
   "execution_count": 33,
   "metadata": {
    "id": "LhfxOWE50vx8"
   },
   "outputs": [],
   "source": [
    "data.to_csv('Cars24_data.csv') # storing final dataframe"
   ]
  },
  {
   "cell_type": "code",
   "execution_count": null,
   "metadata": {},
   "outputs": [],
   "source": []
  }
 ],
 "metadata": {
  "colab": {
   "collapsed_sections": [],
   "name": "data cleaning.ipynb",
   "provenance": []
  },
  "kernelspec": {
   "display_name": "Python 3",
   "language": "python",
   "name": "python3"
  },
  "language_info": {
   "codemirror_mode": {
    "name": "ipython",
    "version": 3
   },
   "file_extension": ".py",
   "mimetype": "text/x-python",
   "name": "python",
   "nbconvert_exporter": "python",
   "pygments_lexer": "ipython3",
   "version": "3.6.5"
  }
 },
 "nbformat": 4,
 "nbformat_minor": 1
}
